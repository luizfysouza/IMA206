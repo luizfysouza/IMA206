{
  "cells": [
    {
      "attachments": {},
      "cell_type": "markdown",
      "metadata": {
        "id": "TdpPHz2Lp6VD"
      },
      "source": [
        "# TP Coding autoencoders and variational autoencoders in Pytorch\n",
        "\n",
        "\n",
        "Author : Alasdair Newson\n",
        "\n",
        "alasdair.newson@telecom-paris.fr\n",
        "\n",
        "## Objective:\n",
        "\n",
        "The goal of this TP is to explore autoencoders and variational autoencoders applied to a simple dataset. In this first part, we will look at an autoencoder applied to MNIST. We recall that an autoencoder is a neural network with the following general architecture:\n",
        "\n",
        "\n",
        "![AUTOENCODER](https://perso.telecom-paristech.fr/anewson/doc/images/autoencoder_illustration_2.png)\n",
        "\n",
        "The tensor $z$ in the middle of the network is called a __latent code__, and it belongs to the latent space. It is this latent space which is interesting in autoencoders (for image synthesis, editing, etc).\n",
        "\n",
        "### Your task:\n",
        "You need to add the missing parts in the code (parts between # --- START CODE HERE and # --- END CODE HERE or # FILL IN CODE)\n",
        "\n",
        "\n",
        "First of all, let's load some packages"
      ]
    },
    {
      "cell_type": "code",
      "execution_count": 1,
      "metadata": {
        "id": "JqNeIJ8Op8Ao"
      },
      "outputs": [],
      "source": [
        "import torch\n",
        "import torch.nn as nn\n",
        "import torch.nn.functional as F\n",
        "import torch.optim as optim\n",
        "from torchvision import datasets, transforms\n",
        "from torch.autograd import Variable\n",
        "from torchvision.utils import save_image\n",
        "\n",
        "import pdb\n",
        "import numpy as np\n",
        "import matplotlib.pyplot as plt\n",
        "\n",
        "def pytorch_to_numpy(x):\n",
        "  return x.detach().numpy()"
      ]
    },
    {
      "attachments": {},
      "cell_type": "markdown",
      "metadata": {
        "id": "Hyj5dj_eui9D"
      },
      "source": [
        "First, we load the mnist dataset."
      ]
    },
    {
      "cell_type": "code",
      "execution_count": 2,
      "metadata": {
        "id": "4YPLKlPrufSk"
      },
      "outputs": [],
      "source": [
        "\n",
        "batch_size = 128\n",
        "\n",
        "# MNIST Dataset\n",
        "mnist_trainset = datasets.MNIST(root='./mnist_data/', train=True, transform=transforms.ToTensor(), download=True)\n",
        "mnist_testset = datasets.MNIST(root='./mnist_data/', train=False, transform=transforms.ToTensor(), download=False)\n",
        "\n",
        "#create data loader with smaller dataset size\n",
        "max_mnist_size = 1000\n",
        "mnist_trainset_reduced = torch.utils.data.random_split(mnist_trainset, [max_mnist_size, len(mnist_trainset)-max_mnist_size])[0] \n",
        "mnist_train_loader = torch.utils.data.DataLoader(mnist_trainset_reduced, batch_size=batch_size, shuffle=True,drop_last=True)\n",
        "\n",
        "# download test dataset\n",
        "max_mnist_size = 512\n",
        "mnist_testset_reduced = torch.utils.data.random_split(mnist_testset, [max_mnist_size, len(mnist_testset)-max_mnist_size])[0] \n",
        "mnist_test_loader = torch.utils.data.DataLoader(mnist_testset_reduced, batch_size=batch_size, shuffle=True,drop_last=True)\n"
      ]
    },
    {
      "cell_type": "code",
      "execution_count": 3,
      "metadata": {
        "id": "r7YhlBT2PN9I"
      },
      "outputs": [
        {
          "name": "stderr",
          "output_type": "stream",
          "text": [
            "/home/luizf/miniconda3/lib/python3.10/site-packages/torchvision/datasets/mnist.py:75: UserWarning: train_data has been renamed data\n",
            "  warnings.warn(\"train_data has been renamed data\")\n"
          ]
        },
        {
          "data": {
            "text/plain": [
              "torch.Size([60000, 28, 28])"
            ]
          },
          "execution_count": 3,
          "metadata": {},
          "output_type": "execute_result"
        }
      ],
      "source": [
        "mnist_trainset_reduced.dataset.train_data.shape"
      ]
    },
    {
      "attachments": {},
      "cell_type": "markdown",
      "metadata": {
        "id": "t-bkK4ktwfvC"
      },
      "source": [
        "# 1 Vanilla Autoencoder\n",
        "\n",
        "Now, we define the general parameters of the autoencoder"
      ]
    },
    {
      "cell_type": "code",
      "execution_count": 4,
      "metadata": {
        "id": "mD56EDzbvUxq"
      },
      "outputs": [],
      "source": [
        "# autoencoder parameters\n",
        "n_rows = mnist_trainset_reduced.dataset.train_data.shape[1]\n",
        "n_cols = mnist_trainset_reduced.dataset.train_data.shape[2]\n",
        "n_channels = 1\n",
        "n_pixels = n_rows*n_cols\n",
        "\n",
        "img_shape = (n_rows, n_cols, n_channels)\n",
        "n_epochs = 150"
      ]
    },
    {
      "attachments": {},
      "cell_type": "markdown",
      "metadata": {
        "id": "6jLa2-jQwxSI"
      },
      "source": [
        "Now, define the autoencoder architecture. In the first part, we will use the following MLP architecture :\n",
        "\n",
        "Encoder :\n",
        "- Flatten input\n",
        "- Dense layer, output size h_dim_1 + ReLU\n",
        "- Dense layer, output size h_dim_2 + ReLU\n",
        "- Dense layer, output size z_dim (no non-linearity)\n",
        "\n",
        "Decoder :\n",
        "- Dense layer, output size h_dim_2 + ReLU\n",
        "- Dense layer, output size h_dim_1 + ReLU\n",
        "- Dense layer, output size x_dim + Sigmoid Activation\n",
        "- Reshape, to size $28\\times 28\\times 1$\n",
        "\n",
        "For the Reshape operation, use the ```A.view(dim_1,dim_2,...)``` function, where ```A``` is your tensor."
      ]
    },
    {
      "cell_type": "code",
      "execution_count": 5,
      "metadata": {
        "id": "tEuZfnUlXxMl"
      },
      "outputs": [],
      "source": [
        "class AE(torch.nn.Module ):\n",
        "  def __init__(self, x_dim, h_dim1, h_dim2, z_dim,n_rows,n_cols,n_channels):\n",
        "    super(AE, self).__init__()\n",
        "\n",
        "    self.n_rows = n_rows\n",
        "    self.n_cols = n_cols\n",
        "    self.n_channels = n_channels\n",
        "    self.n_pixels = (self.n_rows)*(self.n_cols)\n",
        "    self.z_dim = z_dim\n",
        "\n",
        "    # encoder part\n",
        "    self.fc1 = nn.Linear(self.n_pixels, h_dim1)\n",
        "    self.fc2 = nn.Linear(h_dim1, h_dim2)\n",
        "    self.fc3 = nn.Linear(h_dim2, z_dim)\n",
        "    # decoder part\n",
        "    self.fc4 = nn.Linear(z_dim, h_dim2)\n",
        "    self.fc5 = nn.Linear(h_dim2, h_dim1)\n",
        "    self.fc6 = nn.Linear(h_dim1, self.n_pixels)\n",
        "\n",
        "  def encoder(self, x):\n",
        "    h = self.fc1(x.view(-1, self.n_pixels))\n",
        "    h = torch.relu(h)\n",
        "    h = self.fc2(h)\n",
        "    h = torch.relu(h)\n",
        "\n",
        "    return self.fc3(h)\n",
        "  \n",
        "  def decoder(self, z):\n",
        "    h = self.fc4(z)\n",
        "    h = torch.relu(h)\n",
        "    h = self.fc5(h)\n",
        "    h = torch.relu(h)\n",
        "    h = self.fc6(h)\n",
        "    h = torch.sigmoid(h)\n",
        "    return h.view(-1,1, 28, 28)\n",
        "  \n",
        "  def forward(self, x):\n",
        "    y = self.encoder(x)\n",
        "    y = self.decoder(y)\n",
        "\n",
        "    return(y)\n",
        "  \n",
        "  def loss_function(self,x, y):\n",
        "    bce_loss = torch.nn.functional.binary_cross_entropy(y, x, reduction='none')\n",
        "    \n",
        "    return torch.mean(bce_loss)"
      ]
    },
    {
      "cell_type": "code",
      "execution_count": 6,
      "metadata": {
        "id": "oV40vRMQRoG1"
      },
      "outputs": [],
      "source": [
        "# create model\n",
        "ae_dim_1 = 512\n",
        "ae_dim_2 = 256\n",
        "z_dim = 10\n",
        "ae_model = AE(x_dim=n_pixels, h_dim1= ae_dim_1, h_dim2=ae_dim_2, z_dim=z_dim,n_rows=n_rows,n_cols=n_cols,n_channels=n_channels)\n",
        "ae_optimizer = optim.Adam(ae_model.parameters())"
      ]
    },
    {
      "attachments": {},
      "cell_type": "markdown",
      "metadata": {
        "id": "-659aM36xvXX"
      },
      "source": [
        "Now, define a generic function to train the model for one epoch"
      ]
    },
    {
      "cell_type": "code",
      "execution_count": 7,
      "metadata": {
        "id": "wfqX6Brlxjyi"
      },
      "outputs": [],
      "source": [
        "def train_ae(ae_model,data_train_loader,epoch):\n",
        "\ttrain_loss = 0\n",
        "\tfor batch_idx, (data, _) in enumerate(data_train_loader):\n",
        "\t\tae_optimizer.zero_grad()\n",
        "\t\t\n",
        "\t\ty = ae_model(data)\n",
        "\t\tloss_ae = ae_model.loss_function(data, y)\n",
        "  \n",
        "\t\tloss_ae.backward()\n",
        "\t\ttrain_loss += loss_ae.item()\n",
        "\t\tae_optimizer.step()\n",
        "\t\t\n",
        "\t\tif batch_idx % 100 == 0:\n",
        "\t\t\tprint('Train Epoch: {} [{}/{} ({:.0f}%)]\\tLoss: {:.6f}'.format(\n",
        "\t\t\t\tepoch, batch_idx * len(data), len(data_train_loader.dataset),\n",
        "\t\t\t\t100. * batch_idx / len(data_train_loader), loss_ae.item() / len(data)))\n",
        "\tprint('====> Epoch: {} Average loss: {:.4f}'.format(epoch, train_loss / len(data_train_loader.dataset)))\n"
      ]
    },
    {
      "attachments": {},
      "cell_type": "markdown",
      "metadata": {
        "id": "w3EbmswSzJdK"
      },
      "source": [
        "We define a function to carry out testing on the autoencoder model"
      ]
    },
    {
      "cell_type": "code",
      "execution_count": 8,
      "metadata": {
        "id": "11q_0PSibZk-"
      },
      "outputs": [
        {
          "name": "stdout",
          "output_type": "stream",
          "text": [
            "Train Epoch: 0 [0/1000 (0%)]\tLoss: 0.005420\n",
            "====> Epoch: 0 Average loss: 0.0044\n",
            "Train Epoch: 1 [0/1000 (0%)]\tLoss: 0.003277\n",
            "====> Epoch: 1 Average loss: 0.0025\n",
            "Train Epoch: 2 [0/1000 (0%)]\tLoss: 0.002329\n",
            "====> Epoch: 2 Average loss: 0.0021\n",
            "Train Epoch: 3 [0/1000 (0%)]\tLoss: 0.002218\n",
            "====> Epoch: 3 Average loss: 0.0019\n",
            "Train Epoch: 4 [0/1000 (0%)]\tLoss: 0.002053\n",
            "====> Epoch: 4 Average loss: 0.0019\n",
            "Train Epoch: 5 [0/1000 (0%)]\tLoss: 0.002100\n",
            "====> Epoch: 5 Average loss: 0.0018\n",
            "Train Epoch: 6 [0/1000 (0%)]\tLoss: 0.002050\n",
            "====> Epoch: 6 Average loss: 0.0018\n",
            "Train Epoch: 7 [0/1000 (0%)]\tLoss: 0.001994\n",
            "====> Epoch: 7 Average loss: 0.0018\n",
            "Train Epoch: 8 [0/1000 (0%)]\tLoss: 0.001950\n",
            "====> Epoch: 8 Average loss: 0.0018\n",
            "Train Epoch: 9 [0/1000 (0%)]\tLoss: 0.002014\n",
            "====> Epoch: 9 Average loss: 0.0018\n",
            "Train Epoch: 10 [0/1000 (0%)]\tLoss: 0.001944\n",
            "====> Epoch: 10 Average loss: 0.0017\n",
            "Train Epoch: 11 [0/1000 (0%)]\tLoss: 0.001897\n",
            "====> Epoch: 11 Average loss: 0.0017\n",
            "Train Epoch: 12 [0/1000 (0%)]\tLoss: 0.001975\n",
            "====> Epoch: 12 Average loss: 0.0017\n",
            "Train Epoch: 13 [0/1000 (0%)]\tLoss: 0.001859\n",
            "====> Epoch: 13 Average loss: 0.0017\n",
            "Train Epoch: 14 [0/1000 (0%)]\tLoss: 0.001828\n",
            "====> Epoch: 14 Average loss: 0.0016\n",
            "Train Epoch: 15 [0/1000 (0%)]\tLoss: 0.001733\n",
            "====> Epoch: 15 Average loss: 0.0016\n",
            "Train Epoch: 16 [0/1000 (0%)]\tLoss: 0.001727\n",
            "====> Epoch: 16 Average loss: 0.0015\n",
            "Train Epoch: 17 [0/1000 (0%)]\tLoss: 0.001651\n",
            "====> Epoch: 17 Average loss: 0.0015\n",
            "Train Epoch: 18 [0/1000 (0%)]\tLoss: 0.001621\n",
            "====> Epoch: 18 Average loss: 0.0014\n",
            "Train Epoch: 19 [0/1000 (0%)]\tLoss: 0.001617\n",
            "====> Epoch: 19 Average loss: 0.0014\n",
            "Train Epoch: 20 [0/1000 (0%)]\tLoss: 0.001528\n",
            "====> Epoch: 20 Average loss: 0.0013\n",
            "Train Epoch: 21 [0/1000 (0%)]\tLoss: 0.001440\n",
            "====> Epoch: 21 Average loss: 0.0013\n",
            "Train Epoch: 22 [0/1000 (0%)]\tLoss: 0.001439\n",
            "====> Epoch: 22 Average loss: 0.0013\n",
            "Train Epoch: 23 [0/1000 (0%)]\tLoss: 0.001374\n",
            "====> Epoch: 23 Average loss: 0.0012\n",
            "Train Epoch: 24 [0/1000 (0%)]\tLoss: 0.001341\n",
            "====> Epoch: 24 Average loss: 0.0012\n",
            "Train Epoch: 25 [0/1000 (0%)]\tLoss: 0.001313\n",
            "====> Epoch: 25 Average loss: 0.0012\n",
            "Train Epoch: 26 [0/1000 (0%)]\tLoss: 0.001288\n",
            "====> Epoch: 26 Average loss: 0.0012\n",
            "Train Epoch: 27 [0/1000 (0%)]\tLoss: 0.001193\n",
            "====> Epoch: 27 Average loss: 0.0011\n",
            "Train Epoch: 28 [0/1000 (0%)]\tLoss: 0.001264\n",
            "====> Epoch: 28 Average loss: 0.0011\n",
            "Train Epoch: 29 [0/1000 (0%)]\tLoss: 0.001267\n",
            "====> Epoch: 29 Average loss: 0.0011\n",
            "Train Epoch: 30 [0/1000 (0%)]\tLoss: 0.001141\n",
            "====> Epoch: 30 Average loss: 0.0011\n",
            "Train Epoch: 31 [0/1000 (0%)]\tLoss: 0.001191\n",
            "====> Epoch: 31 Average loss: 0.0011\n",
            "Train Epoch: 32 [0/1000 (0%)]\tLoss: 0.001167\n",
            "====> Epoch: 32 Average loss: 0.0011\n",
            "Train Epoch: 33 [0/1000 (0%)]\tLoss: 0.001158\n",
            "====> Epoch: 33 Average loss: 0.0010\n",
            "Train Epoch: 34 [0/1000 (0%)]\tLoss: 0.001132\n",
            "====> Epoch: 34 Average loss: 0.0010\n",
            "Train Epoch: 35 [0/1000 (0%)]\tLoss: 0.001084\n",
            "====> Epoch: 35 Average loss: 0.0010\n",
            "Train Epoch: 36 [0/1000 (0%)]\tLoss: 0.001122\n",
            "====> Epoch: 36 Average loss: 0.0010\n",
            "Train Epoch: 37 [0/1000 (0%)]\tLoss: 0.001130\n",
            "====> Epoch: 37 Average loss: 0.0010\n",
            "Train Epoch: 38 [0/1000 (0%)]\tLoss: 0.001115\n",
            "====> Epoch: 38 Average loss: 0.0010\n",
            "Train Epoch: 39 [0/1000 (0%)]\tLoss: 0.001038\n",
            "====> Epoch: 39 Average loss: 0.0010\n",
            "Train Epoch: 40 [0/1000 (0%)]\tLoss: 0.001055\n",
            "====> Epoch: 40 Average loss: 0.0009\n",
            "Train Epoch: 41 [0/1000 (0%)]\tLoss: 0.001102\n",
            "====> Epoch: 41 Average loss: 0.0009\n",
            "Train Epoch: 42 [0/1000 (0%)]\tLoss: 0.001029\n",
            "====> Epoch: 42 Average loss: 0.0009\n",
            "Train Epoch: 43 [0/1000 (0%)]\tLoss: 0.001014\n",
            "====> Epoch: 43 Average loss: 0.0009\n",
            "Train Epoch: 44 [0/1000 (0%)]\tLoss: 0.000975\n",
            "====> Epoch: 44 Average loss: 0.0009\n",
            "Train Epoch: 45 [0/1000 (0%)]\tLoss: 0.001013\n",
            "====> Epoch: 45 Average loss: 0.0009\n",
            "Train Epoch: 46 [0/1000 (0%)]\tLoss: 0.001032\n",
            "====> Epoch: 46 Average loss: 0.0009\n",
            "Train Epoch: 47 [0/1000 (0%)]\tLoss: 0.001008\n",
            "====> Epoch: 47 Average loss: 0.0009\n",
            "Train Epoch: 48 [0/1000 (0%)]\tLoss: 0.000976\n",
            "====> Epoch: 48 Average loss: 0.0009\n",
            "Train Epoch: 49 [0/1000 (0%)]\tLoss: 0.000986\n",
            "====> Epoch: 49 Average loss: 0.0009\n",
            "Train Epoch: 50 [0/1000 (0%)]\tLoss: 0.000992\n",
            "====> Epoch: 50 Average loss: 0.0009\n",
            "Train Epoch: 51 [0/1000 (0%)]\tLoss: 0.000928\n",
            "====> Epoch: 51 Average loss: 0.0009\n",
            "Train Epoch: 52 [0/1000 (0%)]\tLoss: 0.000959\n",
            "====> Epoch: 52 Average loss: 0.0009\n",
            "Train Epoch: 53 [0/1000 (0%)]\tLoss: 0.000949\n",
            "====> Epoch: 53 Average loss: 0.0009\n",
            "Train Epoch: 54 [0/1000 (0%)]\tLoss: 0.000947\n",
            "====> Epoch: 54 Average loss: 0.0009\n",
            "Train Epoch: 55 [0/1000 (0%)]\tLoss: 0.000914\n",
            "====> Epoch: 55 Average loss: 0.0008\n",
            "Train Epoch: 56 [0/1000 (0%)]\tLoss: 0.000899\n",
            "====> Epoch: 56 Average loss: 0.0008\n",
            "Train Epoch: 57 [0/1000 (0%)]\tLoss: 0.000976\n",
            "====> Epoch: 57 Average loss: 0.0008\n",
            "Train Epoch: 58 [0/1000 (0%)]\tLoss: 0.000900\n",
            "====> Epoch: 58 Average loss: 0.0008\n",
            "Train Epoch: 59 [0/1000 (0%)]\tLoss: 0.000885\n",
            "====> Epoch: 59 Average loss: 0.0008\n",
            "Train Epoch: 60 [0/1000 (0%)]\tLoss: 0.000931\n",
            "====> Epoch: 60 Average loss: 0.0008\n",
            "Train Epoch: 61 [0/1000 (0%)]\tLoss: 0.000920\n",
            "====> Epoch: 61 Average loss: 0.0008\n",
            "Train Epoch: 62 [0/1000 (0%)]\tLoss: 0.000889\n",
            "====> Epoch: 62 Average loss: 0.0008\n",
            "Train Epoch: 63 [0/1000 (0%)]\tLoss: 0.000897\n",
            "====> Epoch: 63 Average loss: 0.0008\n",
            "Train Epoch: 64 [0/1000 (0%)]\tLoss: 0.000910\n",
            "====> Epoch: 64 Average loss: 0.0008\n",
            "Train Epoch: 65 [0/1000 (0%)]\tLoss: 0.000828\n",
            "====> Epoch: 65 Average loss: 0.0008\n",
            "Train Epoch: 66 [0/1000 (0%)]\tLoss: 0.000886\n",
            "====> Epoch: 66 Average loss: 0.0008\n",
            "Train Epoch: 67 [0/1000 (0%)]\tLoss: 0.000855\n",
            "====> Epoch: 67 Average loss: 0.0008\n",
            "Train Epoch: 68 [0/1000 (0%)]\tLoss: 0.000822\n",
            "====> Epoch: 68 Average loss: 0.0008\n",
            "Train Epoch: 69 [0/1000 (0%)]\tLoss: 0.000851\n",
            "====> Epoch: 69 Average loss: 0.0008\n",
            "Train Epoch: 70 [0/1000 (0%)]\tLoss: 0.000868\n",
            "====> Epoch: 70 Average loss: 0.0008\n",
            "Train Epoch: 71 [0/1000 (0%)]\tLoss: 0.000863\n",
            "====> Epoch: 71 Average loss: 0.0008\n",
            "Train Epoch: 72 [0/1000 (0%)]\tLoss: 0.000862\n",
            "====> Epoch: 72 Average loss: 0.0008\n",
            "Train Epoch: 73 [0/1000 (0%)]\tLoss: 0.000855\n",
            "====> Epoch: 73 Average loss: 0.0008\n",
            "Train Epoch: 74 [0/1000 (0%)]\tLoss: 0.000850\n",
            "====> Epoch: 74 Average loss: 0.0008\n",
            "Train Epoch: 75 [0/1000 (0%)]\tLoss: 0.000822\n",
            "====> Epoch: 75 Average loss: 0.0008\n",
            "Train Epoch: 76 [0/1000 (0%)]\tLoss: 0.000836\n",
            "====> Epoch: 76 Average loss: 0.0008\n",
            "Train Epoch: 77 [0/1000 (0%)]\tLoss: 0.000819\n",
            "====> Epoch: 77 Average loss: 0.0008\n",
            "Train Epoch: 78 [0/1000 (0%)]\tLoss: 0.000821\n",
            "====> Epoch: 78 Average loss: 0.0007\n",
            "Train Epoch: 79 [0/1000 (0%)]\tLoss: 0.000836\n",
            "====> Epoch: 79 Average loss: 0.0007\n",
            "Train Epoch: 80 [0/1000 (0%)]\tLoss: 0.000847\n",
            "====> Epoch: 80 Average loss: 0.0007\n",
            "Train Epoch: 81 [0/1000 (0%)]\tLoss: 0.000865\n",
            "====> Epoch: 81 Average loss: 0.0007\n",
            "Train Epoch: 82 [0/1000 (0%)]\tLoss: 0.000801\n",
            "====> Epoch: 82 Average loss: 0.0007\n",
            "Train Epoch: 83 [0/1000 (0%)]\tLoss: 0.000843\n",
            "====> Epoch: 83 Average loss: 0.0007\n",
            "Train Epoch: 84 [0/1000 (0%)]\tLoss: 0.000821\n",
            "====> Epoch: 84 Average loss: 0.0007\n",
            "Train Epoch: 85 [0/1000 (0%)]\tLoss: 0.000814\n",
            "====> Epoch: 85 Average loss: 0.0007\n",
            "Train Epoch: 86 [0/1000 (0%)]\tLoss: 0.000817\n",
            "====> Epoch: 86 Average loss: 0.0007\n",
            "Train Epoch: 87 [0/1000 (0%)]\tLoss: 0.000803\n",
            "====> Epoch: 87 Average loss: 0.0007\n",
            "Train Epoch: 88 [0/1000 (0%)]\tLoss: 0.000790\n",
            "====> Epoch: 88 Average loss: 0.0007\n",
            "Train Epoch: 89 [0/1000 (0%)]\tLoss: 0.000767\n",
            "====> Epoch: 89 Average loss: 0.0007\n",
            "Train Epoch: 90 [0/1000 (0%)]\tLoss: 0.000793\n",
            "====> Epoch: 90 Average loss: 0.0007\n",
            "Train Epoch: 91 [0/1000 (0%)]\tLoss: 0.000775\n",
            "====> Epoch: 91 Average loss: 0.0007\n",
            "Train Epoch: 92 [0/1000 (0%)]\tLoss: 0.000772\n",
            "====> Epoch: 92 Average loss: 0.0007\n",
            "Train Epoch: 93 [0/1000 (0%)]\tLoss: 0.000767\n",
            "====> Epoch: 93 Average loss: 0.0007\n",
            "Train Epoch: 94 [0/1000 (0%)]\tLoss: 0.000787\n",
            "====> Epoch: 94 Average loss: 0.0007\n",
            "Train Epoch: 95 [0/1000 (0%)]\tLoss: 0.000765\n",
            "====> Epoch: 95 Average loss: 0.0007\n",
            "Train Epoch: 96 [0/1000 (0%)]\tLoss: 0.000767\n",
            "====> Epoch: 96 Average loss: 0.0007\n",
            "Train Epoch: 97 [0/1000 (0%)]\tLoss: 0.000780\n",
            "====> Epoch: 97 Average loss: 0.0007\n",
            "Train Epoch: 98 [0/1000 (0%)]\tLoss: 0.000742\n",
            "====> Epoch: 98 Average loss: 0.0007\n",
            "Train Epoch: 99 [0/1000 (0%)]\tLoss: 0.000728\n",
            "====> Epoch: 99 Average loss: 0.0007\n",
            "Train Epoch: 100 [0/1000 (0%)]\tLoss: 0.000722\n",
            "====> Epoch: 100 Average loss: 0.0007\n",
            "Train Epoch: 101 [0/1000 (0%)]\tLoss: 0.000738\n",
            "====> Epoch: 101 Average loss: 0.0007\n",
            "Train Epoch: 102 [0/1000 (0%)]\tLoss: 0.000729\n",
            "====> Epoch: 102 Average loss: 0.0007\n",
            "Train Epoch: 103 [0/1000 (0%)]\tLoss: 0.000725\n",
            "====> Epoch: 103 Average loss: 0.0007\n",
            "Train Epoch: 104 [0/1000 (0%)]\tLoss: 0.000744\n",
            "====> Epoch: 104 Average loss: 0.0007\n",
            "Train Epoch: 105 [0/1000 (0%)]\tLoss: 0.000713\n",
            "====> Epoch: 105 Average loss: 0.0007\n",
            "Train Epoch: 106 [0/1000 (0%)]\tLoss: 0.000733\n",
            "====> Epoch: 106 Average loss: 0.0007\n",
            "Train Epoch: 107 [0/1000 (0%)]\tLoss: 0.000706\n",
            "====> Epoch: 107 Average loss: 0.0007\n",
            "Train Epoch: 108 [0/1000 (0%)]\tLoss: 0.000720\n",
            "====> Epoch: 108 Average loss: 0.0007\n",
            "Train Epoch: 109 [0/1000 (0%)]\tLoss: 0.000693\n",
            "====> Epoch: 109 Average loss: 0.0007\n",
            "Train Epoch: 110 [0/1000 (0%)]\tLoss: 0.000731\n",
            "====> Epoch: 110 Average loss: 0.0007\n",
            "Train Epoch: 111 [0/1000 (0%)]\tLoss: 0.000717\n",
            "====> Epoch: 111 Average loss: 0.0006\n",
            "Train Epoch: 112 [0/1000 (0%)]\tLoss: 0.000734\n",
            "====> Epoch: 112 Average loss: 0.0006\n",
            "Train Epoch: 113 [0/1000 (0%)]\tLoss: 0.000728\n",
            "====> Epoch: 113 Average loss: 0.0006\n",
            "Train Epoch: 114 [0/1000 (0%)]\tLoss: 0.000747\n",
            "====> Epoch: 114 Average loss: 0.0006\n",
            "Train Epoch: 115 [0/1000 (0%)]\tLoss: 0.000687\n",
            "====> Epoch: 115 Average loss: 0.0006\n",
            "Train Epoch: 116 [0/1000 (0%)]\tLoss: 0.000692\n",
            "====> Epoch: 116 Average loss: 0.0006\n",
            "Train Epoch: 117 [0/1000 (0%)]\tLoss: 0.000711\n",
            "====> Epoch: 117 Average loss: 0.0006\n",
            "Train Epoch: 118 [0/1000 (0%)]\tLoss: 0.000713\n",
            "====> Epoch: 118 Average loss: 0.0006\n",
            "Train Epoch: 119 [0/1000 (0%)]\tLoss: 0.000701\n",
            "====> Epoch: 119 Average loss: 0.0006\n",
            "Train Epoch: 120 [0/1000 (0%)]\tLoss: 0.000703\n",
            "====> Epoch: 120 Average loss: 0.0006\n",
            "Train Epoch: 121 [0/1000 (0%)]\tLoss: 0.000675\n",
            "====> Epoch: 121 Average loss: 0.0006\n",
            "Train Epoch: 122 [0/1000 (0%)]\tLoss: 0.000696\n",
            "====> Epoch: 122 Average loss: 0.0006\n",
            "Train Epoch: 123 [0/1000 (0%)]\tLoss: 0.000720\n",
            "====> Epoch: 123 Average loss: 0.0006\n",
            "Train Epoch: 124 [0/1000 (0%)]\tLoss: 0.000685\n",
            "====> Epoch: 124 Average loss: 0.0006\n",
            "Train Epoch: 125 [0/1000 (0%)]\tLoss: 0.000686\n",
            "====> Epoch: 125 Average loss: 0.0006\n",
            "Train Epoch: 126 [0/1000 (0%)]\tLoss: 0.000673\n",
            "====> Epoch: 126 Average loss: 0.0006\n",
            "Train Epoch: 127 [0/1000 (0%)]\tLoss: 0.000658\n",
            "====> Epoch: 127 Average loss: 0.0006\n",
            "Train Epoch: 128 [0/1000 (0%)]\tLoss: 0.000673\n",
            "====> Epoch: 128 Average loss: 0.0006\n",
            "Train Epoch: 129 [0/1000 (0%)]\tLoss: 0.000662\n",
            "====> Epoch: 129 Average loss: 0.0006\n",
            "Train Epoch: 130 [0/1000 (0%)]\tLoss: 0.000677\n",
            "====> Epoch: 130 Average loss: 0.0006\n",
            "Train Epoch: 131 [0/1000 (0%)]\tLoss: 0.000658\n",
            "====> Epoch: 131 Average loss: 0.0006\n",
            "Train Epoch: 132 [0/1000 (0%)]\tLoss: 0.000657\n",
            "====> Epoch: 132 Average loss: 0.0006\n",
            "Train Epoch: 133 [0/1000 (0%)]\tLoss: 0.000693\n",
            "====> Epoch: 133 Average loss: 0.0006\n",
            "Train Epoch: 134 [0/1000 (0%)]\tLoss: 0.000684\n",
            "====> Epoch: 134 Average loss: 0.0006\n",
            "Train Epoch: 135 [0/1000 (0%)]\tLoss: 0.000681\n",
            "====> Epoch: 135 Average loss: 0.0006\n",
            "Train Epoch: 136 [0/1000 (0%)]\tLoss: 0.000670\n",
            "====> Epoch: 136 Average loss: 0.0006\n",
            "Train Epoch: 137 [0/1000 (0%)]\tLoss: 0.000668\n",
            "====> Epoch: 137 Average loss: 0.0006\n",
            "Train Epoch: 138 [0/1000 (0%)]\tLoss: 0.000655\n",
            "====> Epoch: 138 Average loss: 0.0006\n",
            "Train Epoch: 139 [0/1000 (0%)]\tLoss: 0.000666\n",
            "====> Epoch: 139 Average loss: 0.0006\n",
            "Train Epoch: 140 [0/1000 (0%)]\tLoss: 0.000665\n",
            "====> Epoch: 140 Average loss: 0.0006\n",
            "Train Epoch: 141 [0/1000 (0%)]\tLoss: 0.000676\n",
            "====> Epoch: 141 Average loss: 0.0006\n",
            "Train Epoch: 142 [0/1000 (0%)]\tLoss: 0.000642\n",
            "====> Epoch: 142 Average loss: 0.0006\n",
            "Train Epoch: 143 [0/1000 (0%)]\tLoss: 0.000651\n",
            "====> Epoch: 143 Average loss: 0.0006\n",
            "Train Epoch: 144 [0/1000 (0%)]\tLoss: 0.000661\n",
            "====> Epoch: 144 Average loss: 0.0006\n",
            "Train Epoch: 145 [0/1000 (0%)]\tLoss: 0.000668\n",
            "====> Epoch: 145 Average loss: 0.0006\n",
            "Train Epoch: 146 [0/1000 (0%)]\tLoss: 0.000649\n",
            "====> Epoch: 146 Average loss: 0.0006\n",
            "Train Epoch: 147 [0/1000 (0%)]\tLoss: 0.000640\n",
            "====> Epoch: 147 Average loss: 0.0006\n",
            "Train Epoch: 148 [0/1000 (0%)]\tLoss: 0.000650\n",
            "====> Epoch: 148 Average loss: 0.0006\n",
            "Train Epoch: 149 [0/1000 (0%)]\tLoss: 0.000642\n",
            "====> Epoch: 149 Average loss: 0.0006\n"
          ]
        }
      ],
      "source": [
        "for epoch in range(0, n_epochs):\n",
        "  train_ae(ae_model,mnist_train_loader,epoch)"
      ]
    },
    {
      "cell_type": "code",
      "execution_count": 9,
      "metadata": {
        "id": "T8jXjdRyzMy2"
      },
      "outputs": [],
      "source": [
        "def display_images(imgs):\n",
        "  \n",
        "  r = 1\n",
        "  c = imgs.shape[0]\n",
        "  fig, axs = plt.subplots(r, c)\n",
        "  for j in range(c):\n",
        "    #black and white images\n",
        "    axs[j].imshow(pytorch_to_numpy(imgs[j, 0,:,:]), cmap='gray')\n",
        "    axs[j].axis('off')\n",
        "  plt.show()\n",
        "\n",
        "def display_ae_images(ae_model, test_imgs):\n",
        "  n_images = 5\n",
        "  idx = np.random.randint(0, test_imgs.shape[0], n_images)\n",
        "  test_imgs = test_imgs[idx,:,:,:]\n",
        "  print(test_imgs.shape)\n",
        "\n",
        "  #get output images\n",
        "  output_imgs = pytorch_to_numpy(ae_model.forward( test_imgs ))\n",
        "  print(output_imgs.shape)\n",
        "  \n",
        "  r = 2\n",
        "  c = n_images\n",
        "  fig, axs = plt.subplots(r, c)\n",
        "  for j in range(c):\n",
        "    #black and white images\n",
        "    axs[0,j].imshow(test_imgs[j, 0,:,:], cmap='gray')\n",
        "    axs[0,j].axis('off')\n",
        "    axs[1,j].imshow(output_imgs[j, 0,:,:], cmap='gray')\n",
        "    axs[1,j].axis('off')\n",
        "  plt.show()"
      ]
    },
    {
      "cell_type": "code",
      "execution_count": 10,
      "metadata": {
        "id": "9pbXch29d68D"
      },
      "outputs": [
        {
          "name": "stdout",
          "output_type": "stream",
          "text": [
            "torch.Size([5, 1, 28, 28])\n",
            "(5, 1, 28, 28)\n"
          ]
        },
        {
          "data": {
            "image/png": "[encoded data removed]",
            "text/plain": [
              "<Figure size 640x480 with 10 Axes>"
            ]
          },
          "metadata": {},
          "output_type": "display_data"
        }
      ],
      "source": [
        "test_imgs = next(iter(mnist_train_loader))[0]\n",
        "display_ae_images(ae_model, test_imgs)"
      ]
    },
    {
      "attachments": {},
      "cell_type": "markdown",
      "metadata": {
        "id": "assPaJqB5sa-"
      },
      "source": [
        "__Question__ Are you satisfied with the results, do they look good ?"
      ]
    },
    {
      "attachments": {},
      "cell_type": "markdown",
      "metadata": {
        "id": "Q7uoWa4O5x8R"
      },
      "source": [
        "__Answer__\n",
        "\n",
        "The results look good enough, the reconstructed images are not perfect, but they are close enough to the original ones.\n"
      ]
    },
    {
      "attachments": {},
      "cell_type": "markdown",
      "metadata": {
        "id": "zO9ATQEiyr3b"
      },
      "source": [
        "## 2/ Two simple generative models\n",
        "\n",
        "In this section, we consider two naïve approaches to creating generative models. The general idea is the following:\n",
        "\n",
        "- train an autoencoder\n",
        "- estimate different statistics (average, variance) of the data in the latent space\n",
        "- using these statistics, define a model based on a Gaussian distribution\n",
        "- generate data with this distribution\n",
        "\n",
        "We will consider these two situations :\n",
        "\n",
        "- a multivariate Gaussian distribution with __diagonal covariance matrix__ (each latent component is an independent random variable). This requires the average and variance in each latent component\n",
        "- a multivariate Gaussian distribution with __non-diagonal covariance matrix__. This requires the average and covariance matrix of the latent components\n",
        "\n",
        "Obviously, since this is done _a posteriori_ after training the autoencoder, there is nothing which guarantees that the latent codes do indeed follow a Gaussian distribution. Our goal will be to verify that Variational Autoencoders indeed produce better results than such naïve approaches."
      ]
    },
    {
      "attachments": {},
      "cell_type": "markdown",
      "metadata": {
        "id": "x2M1-BRmf56d"
      },
      "source": [
        "## 2.0 Defining and generating random Gaussian latent codes\n",
        "\n",
        "Let $z$ be a latent code and $d$ the dimension of the latent space (called ``z_dim`` in the code). We suppose that the $z$'s follow a multivariate Gaussian distribution, written as:\n",
        "\n",
        "\\begin{equation}\n",
        "z \\sim \\mathcal{N}\\left(\n",
        "\\mu,\n",
        "\\bf{C}\n",
        "\\right),\n",
        "\\end{equation}\n",
        "where $\\mu$ and $\\bf{C}$ are the average vector and covariance matrix of the Gaussian distribution. To define such a generative model, we must therefore determine $\\mu$ and $\\bf{C}$. Once this is done, we can generate a random Gaussian latent code in the following manner:\n",
        "\n",
        "\\begin{equation}\n",
        "z = \\mu + {\\bf{L}} \\varepsilon,\n",
        "\\end{equation}\n",
        "where $\\varepsilon$ is a random vector drawn from a multivariate normal distribution ($\\mu=0$ and ${\\bf{C}} = \\text{Id}$), and $\\bf{L}$ is the Cholesky decomposition of the positive semi-definite covariance matrix. In other words:\n",
        "\n",
        "\\begin{equation}\n",
        "{\\bf{C}} = {\\bf{L}}{\\bf{L}^T}.\n",
        "\\end{equation}\n",
        "\n",
        "This gives a simple method of producing a multivariate Gaussian random variable."
      ]
    },
    {
      "attachments": {},
      "cell_type": "markdown",
      "metadata": {
        "id": "NWpucm972i7j"
      },
      "source": [
        "## 2.1/ A Gaussian model with diagonal covariance\n",
        "\n",
        "The first naïve model is  defined in this first case as:\n",
        "\n",
        "- $\\bf{\\mu}=\\left[\\mu_0, \\mu_1, \\cdots, \\mu_{d-1}\\right]^T$\n",
        "- $\n",
        "  \\bf{C} = \\begin{pmatrix}\n",
        "\\sigma_0^2 & 0 & \\cdots & 0 \\\\\n",
        "0 & \\sigma_1^2 & \\cdots & 0 \\\\\n",
        "\\vdots & \\ddots & \\ddots & \\vdots \\\\\n",
        "0 & 0 & \\cdots & \\sigma_{d-1}^2\n",
        "\\end{pmatrix}$\n",
        "\n",
        "In this situation, therefore, the matrix $\\bf{L}$ can be calculated quite simply, as:\n",
        "- $\n",
        "  \\bf{L} = \\begin{pmatrix}\n",
        "\\sigma_0 & 0 & \\cdots & 0 \\\\\n",
        "0 & \\sigma_1 & \\cdots & 0 \\\\\n",
        "\\vdots & \\ddots & \\ddots & \\vdots \\\\\n",
        "0 & 0 & \\cdots & \\sigma_{d-1}\n",
        "\\end{pmatrix}$\n",
        "\n",
        "In the next cell, calculate the empirical average and variances over a certain number of batches:"
      ]
    },
    {
      "cell_type": "code",
      "execution_count": 11,
      "metadata": {},
      "outputs": [
        {
          "name": "stdout",
          "output_type": "stream",
          "text": [
            "Average of latent codes: tensor([-6.4231, -7.7983,  6.7899, -0.7122,  0.1989,  7.6025,  6.1122,  6.4708,\n",
            "         4.1435,  1.2645], grad_fn=<MeanBackward1>)\n",
            "Standard deviation of latent codes: tensor([ 8.0781,  9.4350, 10.1030,  6.3543,  9.8385,  8.6946,  8.0164,  8.2200,\n",
            "         9.1347,  8.7245], grad_fn=<MeanBackward1>)\n"
          ]
        }
      ],
      "source": [
        "n_batches = np.floor(len(mnist_train_loader.dataset.indices) / batch_size).astype(int)\n",
        "\n",
        "z_average = torch.zeros(n_batches, ae_model.z_dim)\n",
        "z_sigma = torch.zeros(n_batches, ae_model.z_dim)\n",
        "\n",
        "for batch_idx, (data, _) in enumerate(mnist_train_loader):\n",
        "    z = ae_model.encoder(data)\n",
        "    z_average[batch_idx, :] = torch.mean(z, dim=0)\n",
        "    z_sigma[batch_idx, :] = torch.std(z, dim=0)\n",
        "\n",
        "z_average = torch.mean(z_average, dim=0)\n",
        "z_sigma = torch.mean(z_sigma, dim=0)\n",
        "\n",
        "print(\"Average of latent codes:\", z_average)\n",
        "print(\"Standard deviation of latent codes:\", z_sigma)\n"
      ]
    },
    {
      "attachments": {},
      "cell_type": "markdown",
      "metadata": {
        "id": "Lrpc62ML9K4l"
      },
      "source": [
        "Now, in the next cell generate data with this simple generative model using the approach described above. Display these images with the ``display_images`` function. \n",
        "\n",
        "__NB__ You do not actually have to define the matrix $\\bf{L}$ in this case, an element-wise multiplication of two (properly chosen) vectors will suffice. To generate multivariate normal random variables you can use the following Pytorch function:\n",
        "\n",
        "- ```torch.randn```\n"
      ]
    },
    {
      "cell_type": "code",
      "execution_count": 13,
      "metadata": {},
      "outputs": [
        {
          "data": {
            "image/png": "[encoded data removed]",
            "text/plain": [
              "<Figure size 640x480 with 5 Axes>"
            ]
          },
          "metadata": {},
          "output_type": "display_data"
        }
      ],
      "source": [
        "def generate_images_diagonal_gaussian(ae_model, z_average, z_sigma, n_images=5):\n",
        "    epsilon = torch.randn(n_images, ae_model.z_dim)\n",
        "    z_generated = z_average + z_sigma * epsilon\n",
        "    imgs_generated = ae_model.decoder(z_generated)\n",
        "    return imgs_generated\n",
        "\n",
        "imgs_generated = generate_images_diagonal_gaussian(ae_model, z_average, z_sigma, n_images=5)\n",
        "display_images(imgs_generated)\n"
      ]
    },
    {
      "attachments": {},
      "cell_type": "markdown",
      "metadata": {
        "id": "xiNaEgLIloeA"
      },
      "source": [
        "As you should be able to see, these results are not that good. Let's try a slightly more sophisticated model."
      ]
    },
    {
      "attachments": {},
      "cell_type": "markdown",
      "metadata": {
        "id": "WjVPfkRKYMSh"
      },
      "source": [
        "## 2.1 Non-diagonal Gaussian model\n",
        "\n",
        "The second model uses a non-diagonal covariance matrix $\\bf{C}$ in the multivariate Gaussian distribution. In the next cell, calculate the average and covariance matrix over several batches of latent codes.\n",
        "\n",
        "__NB__ You can use the ```torch.cov``` function. Make sure to put the data in the right format for this (see documentation : https://pytorch.org/docs/stable/generated/torch.cov.html)."
      ]
    },
    {
      "cell_type": "code",
      "execution_count": 14,
      "metadata": {},
      "outputs": [
        {
          "name": "stdout",
          "output_type": "stream",
          "text": [
            "Average of latent codes: tensor([-6.3380, -7.7903,  6.8860, -0.6495,  0.4023,  7.4871,  5.8469,  6.4988,\n",
            "         4.3229,  1.0987], grad_fn=<MeanBackward1>)\n",
            "Covariance matrix of latent codes: tensor([[ 67.5425, -30.7625, -30.2093,   1.4336,  19.3604,  -9.8211, -19.6467,\n",
            "         -25.9498, -16.6629, -34.8813],\n",
            "        [-30.7625,  86.9222,   0.5388,  13.2096,  -6.3631,   7.9796, -17.2713,\n",
            "          16.1448,   3.9203,   7.3744],\n",
            "        [-30.2093,   0.5388,  99.2881, -35.9527, -21.8690,  22.5701, -18.8506,\n",
            "         -33.7514,  25.8972,  32.6074],\n",
            "        [  1.4336,  13.2096, -35.9527,  40.3722,  24.3720, -10.7026,  12.1960,\n",
            "           8.1872, -24.0963, -12.7824],\n",
            "        [ 19.3604,  -6.3631, -21.8690,  24.3720,  98.3082,  11.1915, -25.0144,\n",
            "           2.5257, -36.6915,  -7.8427],\n",
            "        [ -9.8211,   7.9796,  22.5701, -10.7026,  11.1915,  77.6682,   3.5301,\n",
            "          -4.1669,   9.3696,  20.1817],\n",
            "        [-19.6467, -17.2713, -18.8506,  12.1960, -25.0144,   3.5301,  63.1724,\n",
            "          12.6196,  -8.2715,   0.2082],\n",
            "        [-25.9498,  16.1448, -33.7514,   8.1872,   2.5257,  -4.1669,  12.6196,\n",
            "          67.0684,  20.3961,   3.5801],\n",
            "        [-16.6629,   3.9203,  25.8972, -24.0963, -36.6915,   9.3696,  -8.2715,\n",
            "          20.3961,  84.6541,   7.1492],\n",
            "        [-34.8813,   7.3744,  32.6074, -12.7824,  -7.8427,  20.1817,   0.2082,\n",
            "           3.5801,   7.1492,  77.6407]])\n"
          ]
        }
      ],
      "source": [
        "n_batches = np.floor( len(mnist_train_loader.dataset.indices)/batch_size ).astype(int)\n",
        "\n",
        "z_average = torch.zeros(n_batches,ae_model.z_dim)\n",
        "z_covariance = torch.zeros(n_batches,ae_model.z_dim,ae_model.z_dim)\n",
        "\n",
        "for batch_idx, (data, _) in enumerate(mnist_train_loader):\n",
        "  z = ae_model.encoder(data)\n",
        "  z_average[batch_idx,:] = z.mean(dim=0)\n",
        "  z_covariance[batch_idx,:,:] = torch.Tensor(np.cov(z.detach().numpy().T))\n",
        "\n",
        "\n",
        "z_average = z_average.mean(dim=0)\n",
        "z_covariance = z_covariance.mean(dim=0)\n",
        "\n",
        "print(\"Average of latent codes:\",z_average)\n",
        "print(\"Covariance matrix of latent codes:\",z_covariance)\n"
      ]
    },
    {
      "attachments": {},
      "cell_type": "markdown",
      "metadata": {
        "id": "JhXU8cnTZ0E8"
      },
      "source": [
        "Now, generate some samples with this distribution. In this case, you will actually have to calculate the Cholesky decomposition and find $\\bf{L}$. For this, you can use \n",
        "\n",
        "- ```torch.linalg.cholesky```\n",
        "\n",
        "In this model, you will need to carry out matrix multiplication over a batch of latent codes, which is a bit more complicated than the previous naïve model (which used element-wise vector multiplication). So you have two options:\n",
        "\n",
        "- copy the matrix $\\bf{L}$ several times and carry out batch matrix multiplication\n",
        "- simply loop and carry out normal matrix multiplication to produce each image (this has the disadvantage of not taking advantage of any parallelisation, but it should not matter too much).\n",
        "\n",
        "In the first case, you can use the following functions:\n",
        "\n",
        "- ```torch.bmm```\n",
        "- ```torch.tile```\n",
        "\n",
        "Fill in the function to generate images using this model now:"
      ]
    },
    {
      "cell_type": "code",
      "execution_count": 15,
      "metadata": {},
      "outputs": [],
      "source": [
        "def generate_images_non_diagonal_gaussian(ae_model, z_average, z_covariance, n_images=5):\n",
        "    # Calculate Cholesky decomposition of covariance matrix: C = L L^T\n",
        "    # Make sure that the first dimension is the batch dimension (with batch size n_images)\n",
        "    # You can use the torch.unsqueeze function for this\n",
        "    L = torch.linalg.cholesky(z_covariance)\n",
        "    L = L.unsqueeze(0).repeat(n_images, 1, 1)\n",
        "\n",
        "    epsilon = torch.randn(n_images, ae_model.z_dim)\n",
        "    z_generated = z_average.unsqueeze(0).repeat(n_images, 1) + torch.bmm(L, epsilon.unsqueeze(2)).squeeze(2)\n",
        "    with torch.no_grad():\n",
        "        imgs_generated = ae_model.decoder(z_generated)\n",
        "\n",
        "    return imgs_generated\n"
      ]
    },
    {
      "cell_type": "code",
      "execution_count": 16,
      "metadata": {},
      "outputs": [
        {
          "data": {
            "image/png": "[encoded data removed]",
            "text/plain": [
              "<Figure size 640x480 with 5 Axes>"
            ]
          },
          "metadata": {},
          "output_type": "display_data"
        }
      ],
      "source": [
        "imgs_generated = generate_images_non_diagonal_gaussian(ae_model,z_average,z_covariance,n_images = 5)\n",
        "display_images(imgs_generated)"
      ]
    },
    {
      "attachments": {},
      "cell_type": "markdown",
      "metadata": {
        "id": "qLtsdri6zKEm"
      },
      "source": [
        "You should see some improvement, but we can do better than this. Thus, we turn to the variational autoencoder."
      ]
    },
    {
      "attachments": {},
      "cell_type": "markdown",
      "metadata": {
        "id": "8UqeNhuSdnDt"
      },
      "source": [
        "# 3/ Variational autoencoder\n",
        "\n",
        "Now, we are going to create an variational autoencoder to carry out __image generation__. Let's first recall the idea of a variational autoencoder\n",
        "\n",
        "## Main idea\n",
        "\n",
        "The main idea is to create an autoencoder whose latent codes follow a certain distribution (a Gaussian distribution in practice). This is done with two tools : \n",
        "\n",
        "- A specific architecture, where the encoder produces the average and variance of the latent codes\n",
        "- A specially designed loss function\n",
        "\n",
        "Once the VAE is trained, it is possible to sample in the latent space by producing random normal variables and simply decoding.\n",
        "\n",
        "## Architecture\n",
        "\n",
        "The architecture of the VAE model is as follows:\n",
        "\n",
        "The encoder consists of:\n",
        "\n",
        "Encoder :\n",
        "- Flatten input\n",
        "- Dense layer $+$ ReLU\n",
        "- Dense layer $+$ ReLU\n",
        "- Dense layer (no non-linarity) to produce the average, Dense layer (no non-linarity) to produce the variance (these last two layers are in parallel)\n",
        "\n",
        "Decoder :\n",
        "- Dense layer $+$ ReLU\n",
        "- Dense layer $+$ ReLU\n",
        "- Dense layer $+$ Sigmoid Activation\n",
        "- Reshape, to size $28\\times 28\\times 1$\n",
        "\n",
        "\n",
        "## Variational Autoencoder loss\n",
        "\n",
        "Recall that for the VAE, the loss function is in fact a function to __maximise__. In fact, for implementation, you will see that it is easier to __minimise__ $-\\mathcal{L}$.\n",
        "\n",
        "In the case of an image which is represented by a set of __Bernoulli__ variables (which is relevant for mnist), the original loss function (to maximise) is written :\n",
        "\n",
        "\n",
        "\\begin{align}\n",
        "\\mathcal{L} &= \\log\\left(p_\\theta(x|z)\\right) - KL\\left( q_\\phi(z|x) \\; || \\; p_\\theta(z)\\right) \\\\\n",
        "    &= \\left(\\sum_{i} x_i \\log y_i + (1-x_i) \\log (1-y_i)\\right) - \\left(\\frac{1}{2} \\sum_j \\left( \\sigma_j^2 + \\mu_j^2 - \\log \\sigma_j^2 -1 \\right)\\right)\n",
        "\\end{align}\n",
        "\n",
        "\n",
        "where $i$ is summed over the image pixels, and $j$ is summed over the elements of the latent space. $\\sigma_j^2$ is the $j$th element of the latent space variance, and $\\mu_j$ is the $j$th element of the latent space mean.\n",
        "\n",
        "The left part of the loss (reconstruction error) can be implemented simply as the binary cross-entropy between the input x and the output y. Since we are __maximising__ $-$[binary cross-entropy] (look at the formula), this is equivalent to minimising the binary cross-entropy.\n",
        "\n",
        "For the right part of the equation (KL divergence), you need to implement it manually. \n",
        "\n",
        "The final loss is the average, over the batch size, of the sum of the reconstruction error (left part) and the KL divergence (right part). Be careful, in the formula, the sums over $i$ and $j$ are over the number of pixels and the number of latent elements, respectively. To achieve a sum rather than an average, you can use ```torch.nn.BCELoss(reduction='sum')()```, and the ```torch.sum()``` functions.\n",
        "\n",
        "As in the case of the normal autoencoder, you will need to flatten and then reshape the tensors at the beginning/end of the network."
      ]
    },
    {
      "attachments": {},
      "cell_type": "markdown",
      "metadata": {
        "id": "hk_9fDIphlsi"
      },
      "source": [
        "Now, create the model (similarly as above)"
      ]
    },
    {
      "cell_type": "code",
      "execution_count": 18,
      "metadata": {
        "id": "pVlpC2R3htyU"
      },
      "outputs": [],
      "source": [
        "import torch\n",
        "import torch.nn as nn\n",
        "\n",
        "class VAE(torch.nn.Module):\n",
        "    \n",
        "    def __init__(self, x_dim, h_dim1, h_dim2, z_dim, n_rows, n_cols, n_channels):\n",
        "        super(VAE, self).__init__()\n",
        "\n",
        "        self.n_rows = n_rows\n",
        "        self.n_cols = n_cols\n",
        "        self.n_channels = n_channels\n",
        "        self.n_pixels = (self.n_rows) * (self.n_cols)\n",
        "        self.z_dim = z_dim\n",
        "\n",
        "        # encoder part\n",
        "        self.fc1 = nn.Linear(x_dim, h_dim1)\n",
        "        self.fc2 = nn.Linear(h_dim1, h_dim2)\n",
        "        self.fc31 = nn.Linear(h_dim2, z_dim)\n",
        "        self.fc32 = nn.Linear(h_dim2, z_dim)\n",
        "        # decoder part\n",
        "        self.fc4 = nn.Linear(z_dim, h_dim2)\n",
        "        self.fc5 = nn.Linear(h_dim2, h_dim1)\n",
        "        self.fc6 = nn.Linear(h_dim1, x_dim)\n",
        "\n",
        "    def encoder(self, x):\n",
        "        h = torch.relu(self.fc1(x))\n",
        "        h = torch.relu(self.fc2(h))\n",
        "        return self.fc31(h), self.fc32(h) # mu, log_var\n",
        "\n",
        "    def decoder(self, z):\n",
        "        h = torch.relu(self.fc4(z))\n",
        "        h = torch.relu(self.fc5(h))\n",
        "        return torch.sigmoid(self.fc6(h)).view(-1, 1, self.n_rows, self.n_cols)\n",
        "\n",
        "    def sampling(self, mu, log_var):\n",
        "        std = torch.exp(0.5*log_var)\n",
        "        eps = torch.randn_like(std)\n",
        "        return eps.mul(std).add_(mu) # return z sample\n",
        "\n",
        "    def forward(self, x):\n",
        "        z_mu, z_log_var = self.encoder(x.view(-1, self.n_pixels))\n",
        "        z = self.sampling(z_mu, z_log_var)\n",
        "        return self.decoder(z), z_mu, z_log_var\n",
        "\n",
        "    def loss_function(self, x, y, mu, log_var):\n",
        "        reconstruction_error = nn.BCELoss(reduction='sum')(y, x)\n",
        "\n",
        "        KLD = -0.5 * torch.sum(1 + log_var - mu.pow(2) - log_var.exp())\n",
        "\n",
        "        return (reconstruction_error + KLD) / x.shape[0]\n"
      ]
    },
    {
      "cell_type": "code",
      "execution_count": 19,
      "metadata": {},
      "outputs": [],
      "source": [
        "# create model\n",
        "vae_dim_1 = ae_dim_1\n",
        "vae_dim_2 = ae_dim_2\n",
        "vae_model = VAE(x_dim=n_pixels, h_dim1= vae_dim_1, h_dim2=vae_dim_2, z_dim=z_dim,n_rows=n_rows,n_cols=n_cols,n_channels=n_channels)\n",
        "vae_optimizer = optim.Adam(vae_model.parameters())"
      ]
    },
    {
      "attachments": {},
      "cell_type": "markdown",
      "metadata": {
        "id": "NYKLF_oMh5HO"
      },
      "source": [
        "Finally, train the model. First modify the training function to the case of the vae."
      ]
    },
    {
      "cell_type": "code",
      "execution_count": 20,
      "metadata": {},
      "outputs": [],
      "source": [
        "def train_vae(vae_model,data_train_loader,epoch):\n",
        "  train_loss = 0\n",
        "  for batch_idx, (data, _) in enumerate(data_train_loader):\n",
        "    vae_optimizer.zero_grad()\n",
        "\n",
        "    y, z_mu, z_log_var = vae_model(data)\n",
        "    loss_vae = vae_model.loss_function(data, y, z_mu, z_log_var)\n",
        "    loss_vae.backward()\n",
        "    train_loss += loss_vae.item()\n",
        "    vae_optimizer.step() \n",
        "\t\t\n",
        "    if batch_idx % 100 == 0:\n",
        "      print('Train Epoch: {} [{}/{} ({:.0f}%)]\\tLoss: {:.6f}'.format(\n",
        "      epoch, batch_idx * len(data), len(data_train_loader.dataset),\n",
        "      100. * batch_idx / len(data_train_loader), loss_vae.item() / len(data)))\n",
        "  print('====> Epoch: {} Average loss: {:.4f}'.format(epoch, train_loss / len(data_train_loader.dataset)))\n"
      ]
    },
    {
      "cell_type": "code",
      "execution_count": 21,
      "metadata": {
        "id": "L9JUUs6Kh8HB"
      },
      "outputs": [
        {
          "name": "stdout",
          "output_type": "stream",
          "text": [
            "Train Epoch: 0 [0/1000 (0%)]\tLoss: 4.261018\n",
            "====> Epoch: 0 Average loss: 3.2183\n",
            "Train Epoch: 1 [0/1000 (0%)]\tLoss: 2.315944\n",
            "====> Epoch: 1 Average loss: 1.7993\n",
            "Train Epoch: 2 [0/1000 (0%)]\tLoss: 1.764018\n",
            "====> Epoch: 2 Average loss: 1.5315\n",
            "Train Epoch: 3 [0/1000 (0%)]\tLoss: 1.644890\n",
            "====> Epoch: 3 Average loss: 1.4836\n",
            "Train Epoch: 4 [0/1000 (0%)]\tLoss: 1.567739\n",
            "====> Epoch: 4 Average loss: 1.4627\n",
            "Train Epoch: 5 [0/1000 (0%)]\tLoss: 1.591784\n",
            "====> Epoch: 5 Average loss: 1.4447\n",
            "Train Epoch: 6 [0/1000 (0%)]\tLoss: 1.554126\n",
            "====> Epoch: 6 Average loss: 1.4391\n",
            "Train Epoch: 7 [0/1000 (0%)]\tLoss: 1.570945\n",
            "====> Epoch: 7 Average loss: 1.4296\n",
            "Train Epoch: 8 [0/1000 (0%)]\tLoss: 1.538084\n",
            "====> Epoch: 8 Average loss: 1.4158\n",
            "Train Epoch: 9 [0/1000 (0%)]\tLoss: 1.567230\n",
            "====> Epoch: 9 Average loss: 1.4067\n",
            "Train Epoch: 10 [0/1000 (0%)]\tLoss: 1.529129\n",
            "====> Epoch: 10 Average loss: 1.3909\n",
            "Train Epoch: 11 [0/1000 (0%)]\tLoss: 1.578807\n",
            "====> Epoch: 11 Average loss: 1.3873\n",
            "Train Epoch: 12 [0/1000 (0%)]\tLoss: 1.513757\n",
            "====> Epoch: 12 Average loss: 1.3779\n",
            "Train Epoch: 13 [0/1000 (0%)]\tLoss: 1.490168\n",
            "====> Epoch: 13 Average loss: 1.3619\n",
            "Train Epoch: 14 [0/1000 (0%)]\tLoss: 1.529526\n",
            "====> Epoch: 14 Average loss: 1.3519\n",
            "Train Epoch: 15 [0/1000 (0%)]\tLoss: 1.513126\n",
            "====> Epoch: 15 Average loss: 1.3436\n",
            "Train Epoch: 16 [0/1000 (0%)]\tLoss: 1.450931\n",
            "====> Epoch: 16 Average loss: 1.3320\n",
            "Train Epoch: 17 [0/1000 (0%)]\tLoss: 1.512955\n",
            "====> Epoch: 17 Average loss: 1.3272\n",
            "Train Epoch: 18 [0/1000 (0%)]\tLoss: 1.434065\n",
            "====> Epoch: 18 Average loss: 1.3121\n",
            "Train Epoch: 19 [0/1000 (0%)]\tLoss: 1.539700\n",
            "====> Epoch: 19 Average loss: 1.3085\n",
            "Train Epoch: 20 [0/1000 (0%)]\tLoss: 1.441656\n",
            "====> Epoch: 20 Average loss: 1.2884\n",
            "Train Epoch: 21 [0/1000 (0%)]\tLoss: 1.465336\n",
            "====> Epoch: 21 Average loss: 1.2810\n",
            "Train Epoch: 22 [0/1000 (0%)]\tLoss: 1.441936\n",
            "====> Epoch: 22 Average loss: 1.2632\n",
            "Train Epoch: 23 [0/1000 (0%)]\tLoss: 1.399690\n",
            "====> Epoch: 23 Average loss: 1.2463\n",
            "Train Epoch: 24 [0/1000 (0%)]\tLoss: 1.319885\n",
            "====> Epoch: 24 Average loss: 1.2215\n",
            "Train Epoch: 25 [0/1000 (0%)]\tLoss: 1.370538\n",
            "====> Epoch: 25 Average loss: 1.1976\n",
            "Train Epoch: 26 [0/1000 (0%)]\tLoss: 1.297788\n",
            "====> Epoch: 26 Average loss: 1.1744\n",
            "Train Epoch: 27 [0/1000 (0%)]\tLoss: 1.247606\n",
            "====> Epoch: 27 Average loss: 1.1625\n",
            "Train Epoch: 28 [0/1000 (0%)]\tLoss: 1.256294\n",
            "====> Epoch: 28 Average loss: 1.1513\n",
            "Train Epoch: 29 [0/1000 (0%)]\tLoss: 1.207567\n",
            "====> Epoch: 29 Average loss: 1.1361\n",
            "Train Epoch: 30 [0/1000 (0%)]\tLoss: 1.281839\n",
            "====> Epoch: 30 Average loss: 1.1357\n",
            "Train Epoch: 31 [0/1000 (0%)]\tLoss: 1.220591\n",
            "====> Epoch: 31 Average loss: 1.1189\n",
            "Train Epoch: 32 [0/1000 (0%)]\tLoss: 1.222325\n",
            "====> Epoch: 32 Average loss: 1.1205\n",
            "Train Epoch: 33 [0/1000 (0%)]\tLoss: 1.217700\n",
            "====> Epoch: 33 Average loss: 1.1024\n",
            "Train Epoch: 34 [0/1000 (0%)]\tLoss: 1.252505\n",
            "====> Epoch: 34 Average loss: 1.0875\n",
            "Train Epoch: 35 [0/1000 (0%)]\tLoss: 1.209646\n",
            "====> Epoch: 35 Average loss: 1.0801\n",
            "Train Epoch: 36 [0/1000 (0%)]\tLoss: 1.186033\n",
            "====> Epoch: 36 Average loss: 1.0630\n",
            "Train Epoch: 37 [0/1000 (0%)]\tLoss: 1.182573\n",
            "====> Epoch: 37 Average loss: 1.0511\n",
            "Train Epoch: 38 [0/1000 (0%)]\tLoss: 1.204628\n",
            "====> Epoch: 38 Average loss: 1.0452\n",
            "Train Epoch: 39 [0/1000 (0%)]\tLoss: 1.071115\n",
            "====> Epoch: 39 Average loss: 1.0384\n",
            "Train Epoch: 40 [0/1000 (0%)]\tLoss: 1.119602\n",
            "====> Epoch: 40 Average loss: 1.0301\n",
            "Train Epoch: 41 [0/1000 (0%)]\tLoss: 1.114564\n",
            "====> Epoch: 41 Average loss: 1.0218\n",
            "Train Epoch: 42 [0/1000 (0%)]\tLoss: 1.095935\n",
            "====> Epoch: 42 Average loss: 1.0087\n",
            "Train Epoch: 43 [0/1000 (0%)]\tLoss: 1.095612\n",
            "====> Epoch: 43 Average loss: 1.0037\n",
            "Train Epoch: 44 [0/1000 (0%)]\tLoss: 1.146817\n",
            "====> Epoch: 44 Average loss: 0.9892\n",
            "Train Epoch: 45 [0/1000 (0%)]\tLoss: 1.118789\n",
            "====> Epoch: 45 Average loss: 0.9852\n",
            "Train Epoch: 46 [0/1000 (0%)]\tLoss: 1.091265\n",
            "====> Epoch: 46 Average loss: 0.9737\n",
            "Train Epoch: 47 [0/1000 (0%)]\tLoss: 1.078306\n",
            "====> Epoch: 47 Average loss: 0.9669\n",
            "Train Epoch: 48 [0/1000 (0%)]\tLoss: 1.096924\n",
            "====> Epoch: 48 Average loss: 0.9623\n",
            "Train Epoch: 49 [0/1000 (0%)]\tLoss: 1.062657\n",
            "====> Epoch: 49 Average loss: 0.9565\n",
            "Train Epoch: 50 [0/1000 (0%)]\tLoss: 1.064531\n",
            "====> Epoch: 50 Average loss: 0.9501\n",
            "Train Epoch: 51 [0/1000 (0%)]\tLoss: 1.078432\n",
            "====> Epoch: 51 Average loss: 0.9424\n",
            "Train Epoch: 52 [0/1000 (0%)]\tLoss: 1.031040\n",
            "====> Epoch: 52 Average loss: 0.9371\n",
            "Train Epoch: 53 [0/1000 (0%)]\tLoss: 1.047526\n",
            "====> Epoch: 53 Average loss: 0.9323\n",
            "Train Epoch: 54 [0/1000 (0%)]\tLoss: 1.018392\n",
            "====> Epoch: 54 Average loss: 0.9293\n",
            "Train Epoch: 55 [0/1000 (0%)]\tLoss: 1.006798\n",
            "====> Epoch: 55 Average loss: 0.9214\n",
            "Train Epoch: 56 [0/1000 (0%)]\tLoss: 1.046386\n",
            "====> Epoch: 56 Average loss: 0.9216\n",
            "Train Epoch: 57 [0/1000 (0%)]\tLoss: 1.001641\n",
            "====> Epoch: 57 Average loss: 0.9191\n",
            "Train Epoch: 58 [0/1000 (0%)]\tLoss: 1.013812\n",
            "====> Epoch: 58 Average loss: 0.9096\n",
            "Train Epoch: 59 [0/1000 (0%)]\tLoss: 0.988278\n",
            "====> Epoch: 59 Average loss: 0.9084\n",
            "Train Epoch: 60 [0/1000 (0%)]\tLoss: 0.983634\n",
            "====> Epoch: 60 Average loss: 0.9056\n",
            "Train Epoch: 61 [0/1000 (0%)]\tLoss: 0.947001\n",
            "====> Epoch: 61 Average loss: 0.8969\n",
            "Train Epoch: 62 [0/1000 (0%)]\tLoss: 1.005802\n",
            "====> Epoch: 62 Average loss: 0.9024\n",
            "Train Epoch: 63 [0/1000 (0%)]\tLoss: 0.981834\n",
            "====> Epoch: 63 Average loss: 0.8863\n",
            "Train Epoch: 64 [0/1000 (0%)]\tLoss: 0.977441\n",
            "====> Epoch: 64 Average loss: 0.8907\n",
            "Train Epoch: 65 [0/1000 (0%)]\tLoss: 0.996656\n",
            "====> Epoch: 65 Average loss: 0.8890\n",
            "Train Epoch: 66 [0/1000 (0%)]\tLoss: 0.956135\n",
            "====> Epoch: 66 Average loss: 0.8861\n",
            "Train Epoch: 67 [0/1000 (0%)]\tLoss: 0.960204\n",
            "====> Epoch: 67 Average loss: 0.8838\n",
            "Train Epoch: 68 [0/1000 (0%)]\tLoss: 0.989410\n",
            "====> Epoch: 68 Average loss: 0.8783\n",
            "Train Epoch: 69 [0/1000 (0%)]\tLoss: 0.956839\n",
            "====> Epoch: 69 Average loss: 0.8794\n",
            "Train Epoch: 70 [0/1000 (0%)]\tLoss: 0.974615\n",
            "====> Epoch: 70 Average loss: 0.8716\n",
            "Train Epoch: 71 [0/1000 (0%)]\tLoss: 1.019846\n",
            "====> Epoch: 71 Average loss: 0.8705\n",
            "Train Epoch: 72 [0/1000 (0%)]\tLoss: 0.969249\n",
            "====> Epoch: 72 Average loss: 0.8651\n",
            "Train Epoch: 73 [0/1000 (0%)]\tLoss: 0.969176\n",
            "====> Epoch: 73 Average loss: 0.8614\n",
            "Train Epoch: 74 [0/1000 (0%)]\tLoss: 0.973488\n",
            "====> Epoch: 74 Average loss: 0.8592\n",
            "Train Epoch: 75 [0/1000 (0%)]\tLoss: 0.979164\n",
            "====> Epoch: 75 Average loss: 0.8586\n",
            "Train Epoch: 76 [0/1000 (0%)]\tLoss: 0.946473\n",
            "====> Epoch: 76 Average loss: 0.8544\n",
            "Train Epoch: 77 [0/1000 (0%)]\tLoss: 0.952540\n",
            "====> Epoch: 77 Average loss: 0.8527\n",
            "Train Epoch: 78 [0/1000 (0%)]\tLoss: 0.964838\n",
            "====> Epoch: 78 Average loss: 0.8497\n",
            "Train Epoch: 79 [0/1000 (0%)]\tLoss: 0.965539\n",
            "====> Epoch: 79 Average loss: 0.8434\n",
            "Train Epoch: 80 [0/1000 (0%)]\tLoss: 0.927380\n",
            "====> Epoch: 80 Average loss: 0.8413\n",
            "Train Epoch: 81 [0/1000 (0%)]\tLoss: 0.946873\n",
            "====> Epoch: 81 Average loss: 0.8408\n",
            "Train Epoch: 82 [0/1000 (0%)]\tLoss: 0.923009\n",
            "====> Epoch: 82 Average loss: 0.8365\n",
            "Train Epoch: 83 [0/1000 (0%)]\tLoss: 0.922108\n",
            "====> Epoch: 83 Average loss: 0.8372\n",
            "Train Epoch: 84 [0/1000 (0%)]\tLoss: 0.898935\n",
            "====> Epoch: 84 Average loss: 0.8298\n",
            "Train Epoch: 85 [0/1000 (0%)]\tLoss: 0.873441\n",
            "====> Epoch: 85 Average loss: 0.8275\n",
            "Train Epoch: 86 [0/1000 (0%)]\tLoss: 0.904398\n",
            "====> Epoch: 86 Average loss: 0.8285\n",
            "Train Epoch: 87 [0/1000 (0%)]\tLoss: 0.929758\n",
            "====> Epoch: 87 Average loss: 0.8221\n",
            "Train Epoch: 88 [0/1000 (0%)]\tLoss: 0.890889\n",
            "====> Epoch: 88 Average loss: 0.8168\n",
            "Train Epoch: 89 [0/1000 (0%)]\tLoss: 0.902589\n",
            "====> Epoch: 89 Average loss: 0.8169\n",
            "Train Epoch: 90 [0/1000 (0%)]\tLoss: 0.924616\n",
            "====> Epoch: 90 Average loss: 0.8189\n",
            "Train Epoch: 91 [0/1000 (0%)]\tLoss: 0.925585\n",
            "====> Epoch: 91 Average loss: 0.8161\n",
            "Train Epoch: 92 [0/1000 (0%)]\tLoss: 0.886003\n",
            "====> Epoch: 92 Average loss: 0.8105\n",
            "Train Epoch: 93 [0/1000 (0%)]\tLoss: 0.890173\n",
            "====> Epoch: 93 Average loss: 0.8113\n",
            "Train Epoch: 94 [0/1000 (0%)]\tLoss: 0.881491\n",
            "====> Epoch: 94 Average loss: 0.8044\n",
            "Train Epoch: 95 [0/1000 (0%)]\tLoss: 0.891615\n",
            "====> Epoch: 95 Average loss: 0.8006\n",
            "Train Epoch: 96 [0/1000 (0%)]\tLoss: 0.843650\n",
            "====> Epoch: 96 Average loss: 0.7996\n",
            "Train Epoch: 97 [0/1000 (0%)]\tLoss: 0.914647\n",
            "====> Epoch: 97 Average loss: 0.8031\n",
            "Train Epoch: 98 [0/1000 (0%)]\tLoss: 0.848840\n",
            "====> Epoch: 98 Average loss: 0.7949\n",
            "Train Epoch: 99 [0/1000 (0%)]\tLoss: 0.887565\n",
            "====> Epoch: 99 Average loss: 0.7950\n",
            "Train Epoch: 100 [0/1000 (0%)]\tLoss: 0.899148\n",
            "====> Epoch: 100 Average loss: 0.7920\n",
            "Train Epoch: 101 [0/1000 (0%)]\tLoss: 0.843773\n",
            "====> Epoch: 101 Average loss: 0.7909\n",
            "Train Epoch: 102 [0/1000 (0%)]\tLoss: 0.900717\n",
            "====> Epoch: 102 Average loss: 0.7885\n",
            "Train Epoch: 103 [0/1000 (0%)]\tLoss: 0.895808\n",
            "====> Epoch: 103 Average loss: 0.7857\n",
            "Train Epoch: 104 [0/1000 (0%)]\tLoss: 0.900831\n",
            "====> Epoch: 104 Average loss: 0.7894\n",
            "Train Epoch: 105 [0/1000 (0%)]\tLoss: 0.875102\n",
            "====> Epoch: 105 Average loss: 0.7801\n",
            "Train Epoch: 106 [0/1000 (0%)]\tLoss: 0.858755\n",
            "====> Epoch: 106 Average loss: 0.7830\n",
            "Train Epoch: 107 [0/1000 (0%)]\tLoss: 0.875705\n",
            "====> Epoch: 107 Average loss: 0.7787\n",
            "Train Epoch: 108 [0/1000 (0%)]\tLoss: 0.879268\n",
            "====> Epoch: 108 Average loss: 0.7742\n",
            "Train Epoch: 109 [0/1000 (0%)]\tLoss: 0.888801\n",
            "====> Epoch: 109 Average loss: 0.7768\n",
            "Train Epoch: 110 [0/1000 (0%)]\tLoss: 0.844351\n",
            "====> Epoch: 110 Average loss: 0.7735\n",
            "Train Epoch: 111 [0/1000 (0%)]\tLoss: 0.829305\n",
            "====> Epoch: 111 Average loss: 0.7685\n",
            "Train Epoch: 112 [0/1000 (0%)]\tLoss: 0.853477\n",
            "====> Epoch: 112 Average loss: 0.7644\n",
            "Train Epoch: 113 [0/1000 (0%)]\tLoss: 0.826295\n",
            "====> Epoch: 113 Average loss: 0.7689\n",
            "Train Epoch: 114 [0/1000 (0%)]\tLoss: 0.899546\n",
            "====> Epoch: 114 Average loss: 0.7624\n",
            "Train Epoch: 115 [0/1000 (0%)]\tLoss: 0.838854\n",
            "====> Epoch: 115 Average loss: 0.7573\n",
            "Train Epoch: 116 [0/1000 (0%)]\tLoss: 0.819449\n",
            "====> Epoch: 116 Average loss: 0.7651\n",
            "Train Epoch: 117 [0/1000 (0%)]\tLoss: 0.838904\n",
            "====> Epoch: 117 Average loss: 0.7574\n",
            "Train Epoch: 118 [0/1000 (0%)]\tLoss: 0.828195\n",
            "====> Epoch: 118 Average loss: 0.7571\n",
            "Train Epoch: 119 [0/1000 (0%)]\tLoss: 0.827028\n",
            "====> Epoch: 119 Average loss: 0.7583\n",
            "Train Epoch: 120 [0/1000 (0%)]\tLoss: 0.843425\n",
            "====> Epoch: 120 Average loss: 0.7557\n",
            "Train Epoch: 121 [0/1000 (0%)]\tLoss: 0.835153\n",
            "====> Epoch: 121 Average loss: 0.7572\n",
            "Train Epoch: 122 [0/1000 (0%)]\tLoss: 0.822978\n",
            "====> Epoch: 122 Average loss: 0.7512\n",
            "Train Epoch: 123 [0/1000 (0%)]\tLoss: 0.826922\n",
            "====> Epoch: 123 Average loss: 0.7498\n",
            "Train Epoch: 124 [0/1000 (0%)]\tLoss: 0.838854\n",
            "====> Epoch: 124 Average loss: 0.7502\n",
            "Train Epoch: 125 [0/1000 (0%)]\tLoss: 0.846040\n",
            "====> Epoch: 125 Average loss: 0.7448\n",
            "Train Epoch: 126 [0/1000 (0%)]\tLoss: 0.804977\n",
            "====> Epoch: 126 Average loss: 0.7412\n",
            "Train Epoch: 127 [0/1000 (0%)]\tLoss: 0.829285\n",
            "====> Epoch: 127 Average loss: 0.7389\n",
            "Train Epoch: 128 [0/1000 (0%)]\tLoss: 0.819836\n",
            "====> Epoch: 128 Average loss: 0.7448\n",
            "Train Epoch: 129 [0/1000 (0%)]\tLoss: 0.813326\n",
            "====> Epoch: 129 Average loss: 0.7389\n",
            "Train Epoch: 130 [0/1000 (0%)]\tLoss: 0.804303\n",
            "====> Epoch: 130 Average loss: 0.7343\n",
            "Train Epoch: 131 [0/1000 (0%)]\tLoss: 0.790224\n",
            "====> Epoch: 131 Average loss: 0.7354\n",
            "Train Epoch: 132 [0/1000 (0%)]\tLoss: 0.818918\n",
            "====> Epoch: 132 Average loss: 0.7355\n",
            "Train Epoch: 133 [0/1000 (0%)]\tLoss: 0.795609\n",
            "====> Epoch: 133 Average loss: 0.7308\n",
            "Train Epoch: 134 [0/1000 (0%)]\tLoss: 0.824500\n",
            "====> Epoch: 134 Average loss: 0.7346\n",
            "Train Epoch: 135 [0/1000 (0%)]\tLoss: 0.804189\n",
            "====> Epoch: 135 Average loss: 0.7323\n",
            "Train Epoch: 136 [0/1000 (0%)]\tLoss: 0.819589\n",
            "====> Epoch: 136 Average loss: 0.7304\n",
            "Train Epoch: 137 [0/1000 (0%)]\tLoss: 0.832767\n",
            "====> Epoch: 137 Average loss: 0.7314\n",
            "Train Epoch: 138 [0/1000 (0%)]\tLoss: 0.820153\n",
            "====> Epoch: 138 Average loss: 0.7262\n",
            "Train Epoch: 139 [0/1000 (0%)]\tLoss: 0.803352\n",
            "====> Epoch: 139 Average loss: 0.7295\n",
            "Train Epoch: 140 [0/1000 (0%)]\tLoss: 0.825370\n",
            "====> Epoch: 140 Average loss: 0.7282\n",
            "Train Epoch: 141 [0/1000 (0%)]\tLoss: 0.790274\n",
            "====> Epoch: 141 Average loss: 0.7262\n",
            "Train Epoch: 142 [0/1000 (0%)]\tLoss: 0.818474\n",
            "====> Epoch: 142 Average loss: 0.7277\n",
            "Train Epoch: 143 [0/1000 (0%)]\tLoss: 0.784206\n",
            "====> Epoch: 143 Average loss: 0.7243\n",
            "Train Epoch: 144 [0/1000 (0%)]\tLoss: 0.774995\n",
            "====> Epoch: 144 Average loss: 0.7217\n",
            "Train Epoch: 145 [0/1000 (0%)]\tLoss: 0.828018\n",
            "====> Epoch: 145 Average loss: 0.7233\n",
            "Train Epoch: 146 [0/1000 (0%)]\tLoss: 0.818632\n",
            "====> Epoch: 146 Average loss: 0.7212\n",
            "Train Epoch: 147 [0/1000 (0%)]\tLoss: 0.783770\n",
            "====> Epoch: 147 Average loss: 0.7153\n",
            "Train Epoch: 148 [0/1000 (0%)]\tLoss: 0.798818\n",
            "====> Epoch: 148 Average loss: 0.7175\n",
            "Train Epoch: 149 [0/1000 (0%)]\tLoss: 0.782520\n",
            "====> Epoch: 149 Average loss: 0.7204\n"
          ]
        }
      ],
      "source": [
        "# now train the model\n",
        "for epoch in range(0, n_epochs):\n",
        "  train_vae(vae_model,mnist_train_loader,epoch)"
      ]
    },
    {
      "attachments": {},
      "cell_type": "markdown",
      "metadata": {
        "id": "uTfRje_AkKDr"
      },
      "source": [
        "Now, generate some images with the VAE model"
      ]
    },
    {
      "cell_type": "code",
      "execution_count": 24,
      "metadata": {
        "id": "41tXdNsFkKk5"
      },
      "outputs": [
        {
          "data": {
            "image/png": "[encoded data removed]",
            "text/plain": [
              "<Figure size 640x480 with 5 Axes>"
            ]
          },
          "metadata": {},
          "output_type": "display_data"
        }
      ],
      "source": [
        "def generate_images_vae(vae_model,n_images = 5):\n",
        "\n",
        "  epsilon = np.random.randn(n_images,vae_model.z_dim)\n",
        "  imgs_generated = vae_model.decoder(torch.Tensor(epsilon))\n",
        "  return(imgs_generated)\n",
        "\n",
        "imgs_generated = generate_images_vae(vae_model,n_images=5)\n",
        "display_images(imgs_generated)"
      ]
    },
    {
      "attachments": {},
      "cell_type": "markdown",
      "metadata": {
        "id": "lGnvKoynzaFN"
      },
      "source": [
        "Do you think the results are better ? What difference can you see ? What advantage does the Variational Autoencoder have over the simple autoencoder model, even though the second autoencoder approach has a more complex probabilistic latent model (a full covariance matrix) ?"
      ]
    },
    {
      "attachments": {},
      "cell_type": "markdown",
      "metadata": {
        "id": "uuYn3_PBzjkI"
      },
      "source": [
        "__Answer__\n",
        "\n",
        "In my opinion, the results are better, and the digits are clearer, while the vanilla Autoencoder generates fuzzy and, sometimes, indistinguishable images. The VAE learns to map the inpud data to a distribution, rather than to a single point, which makes it more robust. Besides, it regularizes and "
      ]
    },
    {
      "attachments": {},
      "cell_type": "markdown",
      "metadata": {
        "id": "uXm-D9Ef9vYm"
      },
      "source": [
        "We will now compare the models quantitavely."
      ]
    },
    {
      "attachments": {},
      "cell_type": "markdown",
      "metadata": {
        "id": "04MddkzuE324"
      },
      "source": [
        "# 3 Evaluating and comparing the models\n",
        "\n",
        "We will evaluate the models, in the following manner:\n",
        "\n",
        "- we train a simple convolutional neural network classifier on mnist, to a good accuracy\n",
        "- we generate images with each model\n",
        "- we find the average of the highest probability of the images according to the classifier, for each model. If this value is high, it means that on average the classifier considers that the images look like a \n",
        "\n",
        "We will use the following convoluional architecture for the classifier:\n",
        "\n",
        "- conv2d, filter size  3×3 , 32 filters, stride=(2,2), padding=\"SAME\"\n",
        "- ReLU\n",
        "- conv2d, filter size  3×3 , 32 filters, stride=(2,2), padding=\"SAME\"\n",
        "- ReLU\n",
        "- MaxPool2D, stride=(2,2)\n",
        "- Flatten\n",
        "- Dense layer\n",
        "\n",
        "Now, define the model. To make things easier, use the ```torch.nn.Sequential``` API (there is no need for a Class in this simple case)."
      ]
    },
    {
      "cell_type": "code",
      "execution_count": 25,
      "metadata": {},
      "outputs": [],
      "source": [
        "learning_rate = 0.01\n",
        "n_epochs = 20\n",
        "batch_size = 64\n",
        "nb_classes = int(mnist_trainset.targets.max()+1)\n",
        "\n",
        "# number of convolutional filters to use\n",
        "nb_filters = 32\n",
        "# convolution kernel size\n",
        "kernel_size = (3, 3)\n",
        "# size of pooling area for max pooling\n",
        "pool_size = (2, 2)\n",
        "\n",
        "# --- Size of the successive layers\n",
        "n_h_0 = 1 #greyscale input images\n",
        "n_h_1 = nb_filters\n",
        "n_h_2 = nb_filters\n",
        "\n",
        "mnist_classification_model = nn.Sequential(\n",
        "    nn.Conv2d(n_h_0, n_h_1, kernel_size, stride=1, padding='same'),\n",
        "    nn.ReLU(),\n",
        "    nn.Conv2d(n_h_1, n_h_2, kernel_size, stride=1, padding='same'),\n",
        "    nn.ReLU(),\n",
        "    nn.MaxPool2d(pool_size, stride=2),\n",
        "    nn.Flatten(),\n",
        "    nn.Linear(n_h_2*14*14, nb_classes)\n",
        ")\n",
        "\n",
        "criterion = nn.CrossEntropyLoss()\n",
        "optimizer = torch.optim.Adam(mnist_classification_model.parameters(), lr=learning_rate)\n"
      ]
    },
    {
      "attachments": {},
      "cell_type": "markdown",
      "metadata": {
        "id": "_sUZONxw2bnt"
      },
      "source": [
        "Create a function to calculate accuracy, instead of loss"
      ]
    },
    {
      "cell_type": "code",
      "execution_count": 26,
      "metadata": {
        "id": "aOww0ydr2fT0"
      },
      "outputs": [],
      "source": [
        "def get_accuracy(x_pred,x_label):\n",
        "  acc = torch.sum(x_pred == x_label)/(x_pred.shape[0])\n",
        "  return acc"
      ]
    },
    {
      "attachments": {},
      "cell_type": "markdown",
      "metadata": {
        "id": "qw0vkZIqFcse"
      },
      "source": [
        "Now, train the model. You should be able to achieve an accuracy close to 1.00 within 20 epochs"
      ]
    },
    {
      "cell_type": "code",
      "execution_count": 27,
      "metadata": {
        "id": "0FA8YoX2FcHP"
      },
      "outputs": [
        {
          "name": "stdout",
          "output_type": "stream",
          "text": [
            "Epoch:0 Train Loss:0.0084 Accuracy:0.6953\n",
            "Epoch:1 Train Loss:0.0063 Accuracy:0.8203\n",
            "Epoch:2 Train Loss:0.0039 Accuracy:0.8594\n",
            "Epoch:3 Train Loss:0.0032 Accuracy:0.8750\n",
            "Epoch:4 Train Loss:0.0014 Accuracy:0.9453\n",
            "Epoch:5 Train Loss:0.0015 Accuracy:0.9609\n",
            "Epoch:6 Train Loss:0.0006 Accuracy:0.9844\n",
            "Epoch:7 Train Loss:0.0004 Accuracy:0.9766\n",
            "Epoch:8 Train Loss:0.0002 Accuracy:1.0000\n",
            "Epoch:9 Train Loss:0.0002 Accuracy:0.9922\n",
            "Epoch:10 Train Loss:0.0001 Accuracy:1.0000\n",
            "Epoch:11 Train Loss:0.0000 Accuracy:1.0000\n",
            "Epoch:12 Train Loss:0.0000 Accuracy:1.0000\n",
            "Epoch:13 Train Loss:0.0000 Accuracy:1.0000\n",
            "Epoch:14 Train Loss:0.0000 Accuracy:1.0000\n",
            "Epoch:15 Train Loss:0.0000 Accuracy:1.0000\n",
            "Epoch:16 Train Loss:0.0000 Accuracy:1.0000\n",
            "Epoch:17 Train Loss:0.0000 Accuracy:1.0000\n",
            "Epoch:18 Train Loss:0.0000 Accuracy:1.0000\n",
            "Epoch:19 Train Loss:0.0000 Accuracy:1.0000\n"
          ]
        }
      ],
      "source": [
        "train_losses=[]\n",
        "valid_losses=[]\n",
        "\n",
        "for epoch in range(0,n_epochs):\n",
        "  train_loss=0.0\n",
        "\n",
        "  for batch_idx, (imgs, labels) in enumerate(mnist_train_loader):\n",
        "    #print (imgs.shape)\n",
        "    # set the gradients back to 0\n",
        "    optimizer.zero_grad()\n",
        "    predict=mnist_classification_model(imgs)\n",
        "    # apply loss function\n",
        "    loss=criterion(predict,labels)\n",
        "    acc = get_accuracy(torch.argmax(predict,dim=1),labels)\n",
        "    # backpropagation\n",
        "    loss.backward()\n",
        "    optimizer.step()\n",
        "    train_loss=loss.item()\n",
        "  print('Epoch:{} Train Loss:{:.4f} Accuracy:{:.4f}'.format(epoch,train_loss/imgs.shape[0],acc))"
      ]
    },
    {
      "attachments": {},
      "cell_type": "markdown",
      "metadata": {
        "id": "zFgN5LblFwTa"
      },
      "source": [
        "### Evaluate the average maximum prediction of the images generated by each generative model (higher is better)\n",
        "\n",
        "Now, we will evaluate the models. For each ones, produce a certain number of images, and put those images through the classification network. Then find the maximum class probability of each image, and average it over all the images. We will use this as a metric to evaluate each model.\n",
        "\n",
        "__CAREFUL__: the output of the network does __not__ include the Softmax layer, so you will have to carry it out, with:\n",
        "- ```torch.nn.Softmax()(...)```\n",
        "\n",
        "Define this metric now:"
      ]
    },
    {
      "cell_type": "code",
      "execution_count": 28,
      "metadata": {
        "id": "lCJ_0qqjOXHT"
      },
      "outputs": [],
      "source": [
        "def generative_model_score(imgs_in,classification_model):\n",
        "  soft = nn.Softmax(dim=1)\n",
        "  gen_score = mnist_classification_model(imgs_in)\n",
        "  gen_score = soft(gen_score)\n",
        "  gen_score = gen_score.max(dim=1)[0].mean().detach().numpy()\n",
        "  return(gen_score)"
      ]
    },
    {
      "attachments": {},
      "cell_type": "markdown",
      "metadata": {
        "id": "yGq7YFg51UoP"
      },
      "source": [
        "Now, generate some images with each of the three models, and evaluate these models:"
      ]
    },
    {
      "cell_type": "code",
      "execution_count": 31,
      "metadata": {
        "id": "4-L4u2jhILFx"
      },
      "outputs": [
        {
          "name": "stdout",
          "output_type": "stream",
          "text": [
            "Diagonal gaussian generative model score :  0.84610116\n",
            "Non diagonal gaussian generative model score :  0.8986852\n",
            "Variational autoencoder model score:  0.9150935\n"
          ]
        }
      ],
      "source": [
        "imgs_diagonal_gaussian = generate_images_diagonal_gaussian(ae_model,z_average,z_sigma,n_images = 50)\n",
        "imgs_non_diagonal_gaussian = generate_images_non_diagonal_gaussian(ae_model,z_average,z_covariance,n_images = 50)\n",
        "imgs_vae = generate_images_vae(vae_model,n_images=50)\n",
        "\n",
        "# average of maximum of first model \n",
        "diagonal_gaussian_score = generative_model_score(imgs_diagonal_gaussian,mnist_classification_model)\n",
        "non_diagonal_gaussian_score = generative_model_score(imgs_non_diagonal_gaussian,mnist_classification_model)\n",
        "vae_gaussian_score = generative_model_score(imgs_vae,mnist_classification_model)\n",
        "\n",
        "print(\"Diagonal gaussian generative model score : \",diagonal_gaussian_score)\n",
        "print(\"Non diagonal gaussian generative model score : \",non_diagonal_gaussian_score)\n",
        "print(\"Variational autoencoder model score: \",vae_gaussian_score) "
      ]
    },
    {
      "cell_type": "code",
      "execution_count": 47,
      "metadata": {},
      "outputs": [
        {
          "name": "stdout",
          "output_type": "stream",
          "text": [
            "Diagonal gaussian generative model score : 0.8754 +/- 0.0262\n",
            "Non diagonal gaussian generative model score : 0.9050 +/- 0.0225\n",
            "Variational autoencoder model score: 0.9077 +/- 0.0212\n"
          ]
        }
      ],
      "source": [
        "score_1 = []\n",
        "score_2 = []\n",
        "score_3 = []\n",
        "for i in range (1000):\n",
        "    imgs_diagonal_gaussian = generate_images_diagonal_gaussian(ae_model,z_average,z_sigma,n_images = 50)\n",
        "    imgs_non_diagonal_gaussian = generate_images_non_diagonal_gaussian(ae_model,z_average,z_covariance,n_images = 50)\n",
        "    imgs_vae = generate_images_vae(vae_model,n_images=50)\n",
        "\n",
        "    # average of maximum of first model \n",
        "    diagonal_gaussian_score = generative_model_score(imgs_diagonal_gaussian,mnist_classification_model)\n",
        "    non_diagonal_gaussian_score = generative_model_score(imgs_non_diagonal_gaussian,mnist_classification_model)\n",
        "    vae_gaussian_score = generative_model_score(imgs_vae,mnist_classification_model)\n",
        "    score_1.append(diagonal_gaussian_score)\n",
        "    score_2.append(non_diagonal_gaussian_score)\n",
        "    score_3.append(vae_gaussian_score)\n",
        "\n",
        "diagonal_gaussian_score = np.mean(score_1)\n",
        "non_diagonal_gaussian_score = np.mean(score_2)\n",
        "vae_gaussian_score = np.mean(score_3)\n",
        "\n",
        "#print mean plus minus std\n",
        "print(\"Diagonal gaussian generative model score : {:.4f} +/- {:.4f}\".format(diagonal_gaussian_score,np.std(score_1)))\n",
        "print(\"Non diagonal gaussian generative model score : {:.4f} +/- {:.4f}\".format(non_diagonal_gaussian_score,np.std(score_2)))\n",
        "print(\"Variational autoencoder model score: {:.4f} +/- {:.4f}\".format(vae_gaussian_score,np.std(score_3)))"
      ]
    },
    {
      "attachments": {},
      "cell_type": "markdown",
      "metadata": {
        "id": "sxvsG8FC1gNS"
      },
      "source": [
        "Please answer the following questions:\n",
        "\n",
        "- Which model is better quantitatively ? \n",
        "- Do the quantitative result support the qualitative results ?\n",
        "- Can you see any drawbacks of this method of evaluation ?\n",
        "- Can you propose any more sophisticated models than the multivariate Gaussian approach (apart from the variational autoencoder) ? "
      ]
    },
    {
      "attachments": {},
      "cell_type": "markdown",
      "metadata": {
        "id": "3SYCyfKR3G7Y"
      },
      "source": [
        "__Answer__\n",
        "* Quantitatively,we can see that the VAE model is better than the other two, although the difference is not very high, specially when compared to the diagonal covariance model. We can see in the second experiment that the VAE is more stable (lower std) and the mean score is slightly higher.\n",
        "\n",
        "* The qualitative results are subjective. However, in my opinion, the VAE model is considerably better than the other 2, the digits are much more clear.\n",
        "\n",
        "* This method does not guarantee that the model is actually returning the right classification, since we do not have labels for the generated digits. That is, the model can be confident about the wrong class, so the metric is not very reliable.\n",
        "\n",
        "* Another generative model that is extensively used is the GAN"
      ]
    }
  ],
  "metadata": {
    "accelerator": "GPU",
    "colab": {
      "provenance": []
    },
    "kernelspec": {
      "display_name": "Python 3",
      "name": "python3"
    },
    "language_info": {
      "codemirror_mode": {
        "name": "ipython",
        "version": 3
      },
      "file_extension": ".py",
      "mimetype": "text/x-python",
      "name": "python",
      "nbconvert_exporter": "python",
      "pygments_lexer": "ipython3",
      "version": "3.10.8"
    }
  },
  "nbformat": 4,
  "nbformat_minor": 0
}
